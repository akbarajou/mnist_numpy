{
  "nbformat": 4,
  "nbformat_minor": 0,
  "metadata": {
    "colab": {
      "provenance": [],
      "authorship_tag": "ABX9TyNyNUQlZKPq3HkKc+zlmmO1",
      "include_colab_link": true
    },
    "kernelspec": {
      "name": "python3",
      "display_name": "Python 3"
    },
    "language_info": {
      "name": "python"
    }
  },
  "cells": [
    {
      "cell_type": "markdown",
      "metadata": {
        "id": "view-in-github",
        "colab_type": "text"
      },
      "source": [
        "<a href=\"https://colab.research.google.com/github/akbarajou/mnist_numpy/blob/main/mnist_tf.ipynb\" target=\"_parent\"><img src=\"https://colab.research.google.com/assets/colab-badge.svg\" alt=\"Open In Colab\"/></a>"
      ]
    },
    {
      "cell_type": "code",
      "execution_count": null,
      "metadata": {
        "colab": {
          "base_uri": "https://localhost:8080/"
        },
        "id": "1rIK_TZSWplz",
        "outputId": "381db88d-8d32-4156-cae5-274487b5e1bb"
      },
      "outputs": [
        {
          "output_type": "stream",
          "name": "stdout",
          "text": [
            "Hello\n"
          ]
        }
      ],
      "source": [
        "print(\"Hello\")"
      ]
    },
    {
      "cell_type": "markdown",
      "source": [
        "# Import Libraries"
      ],
      "metadata": {
        "id": "Ydeq-867LWiS"
      }
    },
    {
      "cell_type": "code",
      "source": [
        "import tensorflow as tf\n",
        "import numpy as np\n",
        "import matplotlib.pyplot as plt\n",
        "import os"
      ],
      "metadata": {
        "id": "_Yq2BxrweFj6"
      },
      "execution_count": null,
      "outputs": []
    },
    {
      "cell_type": "markdown",
      "source": [
        "# Load Dataset"
      ],
      "metadata": {
        "id": "n4b6zThMLfaC"
      }
    },
    {
      "cell_type": "code",
      "source": [
        "mnist_ds = tf.keras.datasets.mnist\n",
        "(x_train, y_train), (x_test, y_test) = mnist_ds.load_data()"
      ],
      "metadata": {
        "colab": {
          "base_uri": "https://localhost:8080/"
        },
        "id": "Cb4ksxpSerNp",
        "outputId": "504d90d0-6725-4bd2-f373-8f17a62c6746"
      },
      "execution_count": null,
      "outputs": [
        {
          "output_type": "stream",
          "name": "stdout",
          "text": [
            "Downloading data from https://storage.googleapis.com/tensorflow/tf-keras-datasets/mnist.npz\n",
            "\u001b[1m11490434/11490434\u001b[0m \u001b[32m━━━━━━━━━━━━━━━━━━━━\u001b[0m\u001b[37m\u001b[0m \u001b[1m0s\u001b[0m 0us/step\n"
          ]
        }
      ]
    },
    {
      "cell_type": "code",
      "source": [
        "print(x_train.shape)"
      ],
      "metadata": {
        "colab": {
          "base_uri": "https://localhost:8080/"
        },
        "id": "ju2cUnsleuu_",
        "outputId": "0711f8aa-f526-4c82-9e9c-eb54e0952669"
      },
      "execution_count": null,
      "outputs": [
        {
          "output_type": "stream",
          "name": "stdout",
          "text": [
            "(60000, 28, 28)\n"
          ]
        }
      ]
    },
    {
      "cell_type": "markdown",
      "source": [
        "# Model"
      ],
      "metadata": {
        "id": "CnnoEFlcLkas"
      }
    },
    {
      "cell_type": "code",
      "source": [
        "model = tf.keras.models.Sequential()\n",
        "model.add(tf.keras.layers.Flatten(input_shape=(28, 28)))\n",
        "model.add(tf.keras.layers.Dense(100, activation='relu'))\n",
        "model.add(tf.keras.layers.Dense(10, activation='softmax'))"
      ],
      "metadata": {
        "colab": {
          "base_uri": "https://localhost:8080/"
        },
        "id": "1DVLA75oh1YR",
        "outputId": "03b32364-d935-4c90-feb3-a35c05e7150d"
      },
      "execution_count": null,
      "outputs": [
        {
          "output_type": "stream",
          "name": "stderr",
          "text": [
            "/usr/local/lib/python3.11/dist-packages/keras/src/layers/reshaping/flatten.py:37: UserWarning: Do not pass an `input_shape`/`input_dim` argument to a layer. When using Sequential models, prefer using an `Input(shape)` object as the first layer in the model instead.\n",
            "  super().__init__(**kwargs)\n"
          ]
        }
      ]
    },
    {
      "cell_type": "markdown",
      "source": [
        "# Train the model"
      ],
      "metadata": {
        "id": "YactrLE1LoNS"
      }
    },
    {
      "cell_type": "code",
      "source": [
        "model.compile(optimizer='adam', loss='sparse_categorical_crossentropy', metrics=['accuracy'])\n",
        "model.fit(x_train, y_train, epochs=5, batch_size=64)\n",
        "\n",
        "# evaluate the model\n",
        "model.evaluate(x_test, y_test)"
      ],
      "metadata": {
        "colab": {
          "base_uri": "https://localhost:8080/"
        },
        "id": "BAm2irPFiINO",
        "outputId": "c4d42c11-cf58-4808-eb21-458c32683ae4"
      },
      "execution_count": null,
      "outputs": [
        {
          "output_type": "stream",
          "name": "stdout",
          "text": [
            "Epoch 1/5\n",
            "\u001b[1m938/938\u001b[0m \u001b[32m━━━━━━━━━━━━━━━━━━━━\u001b[0m\u001b[37m\u001b[0m \u001b[1m6s\u001b[0m 5ms/step - accuracy: 0.7997 - loss: 9.0539\n",
            "Epoch 2/5\n",
            "\u001b[1m938/938\u001b[0m \u001b[32m━━━━━━━━━━━━━━━━━━━━\u001b[0m\u001b[37m\u001b[0m \u001b[1m4s\u001b[0m 4ms/step - accuracy: 0.8885 - loss: 0.4918\n",
            "Epoch 3/5\n",
            "\u001b[1m938/938\u001b[0m \u001b[32m━━━━━━━━━━━━━━━━━━━━\u001b[0m\u001b[37m\u001b[0m \u001b[1m5s\u001b[0m 4ms/step - accuracy: 0.9142 - loss: 0.3441\n",
            "Epoch 4/5\n",
            "\u001b[1m938/938\u001b[0m \u001b[32m━━━━━━━━━━━━━━━━━━━━\u001b[0m\u001b[37m\u001b[0m \u001b[1m3s\u001b[0m 3ms/step - accuracy: 0.9271 - loss: 0.2715\n",
            "Epoch 5/5\n",
            "\u001b[1m938/938\u001b[0m \u001b[32m━━━━━━━━━━━━━━━━━━━━\u001b[0m\u001b[37m\u001b[0m \u001b[1m3s\u001b[0m 3ms/step - accuracy: 0.9406 - loss: 0.2281\n"
          ]
        },
        {
          "output_type": "execute_result",
          "data": {
            "text/plain": [
              "<keras.src.callbacks.history.History at 0x7c18db614cd0>"
            ]
          },
          "metadata": {},
          "execution_count": 6
        }
      ]
    },
    {
      "cell_type": "markdown",
      "source": [
        "# Prediction"
      ],
      "metadata": {
        "id": "gypmtz6TMFsQ"
      }
    },
    {
      "cell_type": "code",
      "source": [
        "n = np.random.randint(1, len(x_test))\n",
        "predictions = model.predict(x_test)\n",
        "print(f'true value: {y_test[n]}')\n",
        "print(predictions[n])\n",
        "print(f'predicted value: {np.argmax(predictions[n])}')\n",
        "plt.imshow(x_test[n], cmap='gray')\n",
        "plt.show()"
      ],
      "metadata": {
        "colab": {
          "base_uri": "https://localhost:8080/",
          "height": 517
        },
        "id": "RSKLT23TnG7-",
        "outputId": "633d6fe4-5640-4c00-af90-046b3b781cfc"
      },
      "execution_count": null,
      "outputs": [
        {
          "output_type": "stream",
          "name": "stdout",
          "text": [
            "\u001b[1m313/313\u001b[0m \u001b[32m━━━━━━━━━━━━━━━━━━━━\u001b[0m\u001b[37m\u001b[0m \u001b[1m1s\u001b[0m 2ms/step\n",
            "true value: 4\n",
            "[2.5126726e-06 5.3482613e-17 1.6526109e-16 3.4359153e-14 9.9940073e-01\n",
            " 9.9368474e-13 2.4472042e-08 2.2534345e-04 4.7111146e-07 3.7096205e-04]\n",
            "predicted value: 4\n"
          ]
        },
        {
          "output_type": "display_data",
          "data": {
            "text/plain": [
              "<Figure size 640x480 with 1 Axes>"
            ],
            "image/png": "[encoded data removed]"
          },
          "metadata": {}
        }
      ]
    },
    {
      "cell_type": "markdown",
      "source": [
        "# Save the model"
      ],
      "metadata": {
        "id": "0y6IMEbvMIzy"
      }
    },
    {
      "cell_type": "code",
      "source": [
        "model.save('mnistdigits.keras')\n",
        "print('model saved')"
      ],
      "metadata": {
        "colab": {
          "base_uri": "https://localhost:8080/"
        },
        "id": "equ4sVdUJOIu",
        "outputId": "d9971007-cfff-4842-a349-8b0e93b97b39"
      },
      "execution_count": null,
      "outputs": [
        {
          "output_type": "stream",
          "name": "stdout",
          "text": [
            "model saved\n"
          ]
        }
      ]
    },
    {
      "cell_type": "markdown",
      "source": [
        "# Load pre-built model"
      ],
      "metadata": {
        "id": "6f09igSaMM-h"
      }
    },
    {
      "cell_type": "code",
      "source": [
        "if os.path.exists('mnistdigits.keras'):\n",
        "    mymodel = tf.keras.models.load_model('mnistdigits.keras')\n",
        "    print('Model loaded from disk.')\n",
        "else:\n",
        "    print('Model not found. Please train and save the model first.')"
      ],
      "metadata": {
        "colab": {
          "base_uri": "https://localhost:8080/"
        },
        "id": "_e5pn1jRK8IX",
        "outputId": "b28b5770-3cfc-4ec3-c0d3-6ce370012e37"
      },
      "execution_count": null,
      "outputs": [
        {
          "output_type": "stream",
          "name": "stdout",
          "text": [
            "Model loaded from disk.\n"
          ]
        }
      ]
    },
    {
      "cell_type": "markdown",
      "source": [
        "# Prediction on custom image"
      ],
      "metadata": {
        "id": "8m-yL-CnMci6"
      }
    },
    {
      "cell_type": "code",
      "source": [
        "img = plt.imread('three.png')\n",
        "print(img.shape)\n",
        "\n",
        "# Check if the image is already grayscale\n",
        "if len(img.shape) == 2:\n",
        "    print(\"Image is already grayscale.\")\n",
        "else:\n",
        "    # Convert to grayscale using broadcasting\n",
        "    img = np.uint8(np.average(img, axis=2))\n",
        "    print(\"Image converted to grayscale.\")\n",
        "\n",
        "print(img.shape)\n",
        "\n",
        "# Resize the image to 28x28 pixels\n",
        "l1 = 28 / img.shape[0]\n",
        "l2 = 28 / img.shape[1]\n",
        "newimg = np.zeros((28, 28))\n",
        "for x in range(28):\n",
        "    for y in range(28):\n",
        "        newimg[x][y] = img[int(x / l1)][int(y / l2)]\n",
        "\n",
        "# Invert the image colors\n",
        "newimg = 255 - newimg\n",
        "z = np.array(newimg)\n",
        "z = z.reshape((1, 28, 28))"
      ],
      "metadata": {
        "colab": {
          "base_uri": "https://localhost:8080/",
          "height": 419
        },
        "id": "m1KbI9V8LF3s",
        "outputId": "f3a97967-1b41-4e1b-936e-ca3ce0f33d34"
      },
      "execution_count": null,
      "outputs": [
        {
          "output_type": "error",
          "ename": "SyntaxError",
          "evalue": "not a PNG file (<string>)",
          "traceback": [
            "Traceback \u001b[0;36m(most recent call last)\u001b[0m:\n",
            "  File \u001b[1;32m\"/usr/local/lib/python3.11/dist-packages/IPython/core/interactiveshell.py\"\u001b[0m, line \u001b[1;32m3553\u001b[0m, in \u001b[1;35mrun_code\u001b[0m\n    exec(code_obj, self.user_global_ns, self.user_ns)\n",
            "  File \u001b[1;32m\"<ipython-input-25-69c6c853d77a>\"\u001b[0m, line \u001b[1;32m1\u001b[0m, in \u001b[1;35m<cell line: 0>\u001b[0m\n    img = plt.imread('three.png')\n",
            "  File \u001b[1;32m\"/usr/local/lib/python3.11/dist-packages/matplotlib/pyplot.py\"\u001b[0m, line \u001b[1;32m2613\u001b[0m, in \u001b[1;35mimread\u001b[0m\n    return matplotlib.image.imread(fname, format)\n",
            "  File \u001b[1;32m\"/usr/local/lib/python3.11/dist-packages/matplotlib/image.py\"\u001b[0m, line \u001b[1;32m1502\u001b[0m, in \u001b[1;35mimread\u001b[0m\n    with img_open(fname) as image:\n",
            "  File \u001b[1;32m\"/usr/local/lib/python3.11/dist-packages/PIL/ImageFile.py\"\u001b[0m, line \u001b[1;32m144\u001b[0m, in \u001b[1;35m__init__\u001b[0m\n    self._open()\n",
            "\u001b[0;36m  File \u001b[0;32m\"/usr/local/lib/python3.11/dist-packages/PIL/PngImagePlugin.py\"\u001b[0;36m, line \u001b[0;32m757\u001b[0;36m, in \u001b[0;35m_open\u001b[0;36m\u001b[0m\n\u001b[0;31m    raise SyntaxError(msg)\u001b[0m\n",
            "\u001b[0;36m  File \u001b[0;32m\"<string>\"\u001b[0;36m, line \u001b[0;32munknown\u001b[0m\n\u001b[0;31mSyntaxError\u001b[0m\u001b[0;31m:\u001b[0m not a PNG file\n"
          ]
        }
      ]
    },
    {
      "cell_type": "code",
      "source": [
        "predictions = mymodel.predict([z])\n",
        "print(predictions[0])\n",
        "print(f'predicted value: {np.argmax(predictions[0])}')\n",
        "plt.imshow(z[0], cmap='gray')\n",
        "plt.show()"
      ],
      "metadata": {
        "colab": {
          "base_uri": "https://localhost:8080/",
          "height": 499
        },
        "id": "wEfLxvHHLJV0",
        "outputId": "21589ad9-bf2a-4794-faff-60daf9c1a0e2"
      },
      "execution_count": null,
      "outputs": [
        {
          "output_type": "stream",
          "name": "stdout",
          "text": [
            "\u001b[1m1/1\u001b[0m \u001b[32m━━━━━━━━━━━━━━━━━━━━\u001b[0m\u001b[37m\u001b[0m \u001b[1m0s\u001b[0m 39ms/step\n",
            "[1.1847180e-25 8.7329774e-08 6.9374223e-10 1.0821636e-11 4.6005789e-11\n",
            " 4.6645109e-20 0.0000000e+00 9.9999988e-01 4.6346260e-12 5.2344092e-08]\n",
            "predicted value: 7\n"
          ]
        },
        {
          "output_type": "display_data",
          "data": {
            "text/plain": [
              "<Figure size 640x480 with 1 Axes>"
            ],
            "image/png": "[encoded data removed]"
          },
          "metadata": {}
        }
      ]
    }
  ]
}